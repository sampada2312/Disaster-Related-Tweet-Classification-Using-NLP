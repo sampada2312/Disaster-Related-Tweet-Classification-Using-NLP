{
  "cells": [
    {
      "cell_type": "code",
      "execution_count": null,
      "id": "0c55a0be-08ea-45cc-91d8-5e2d85dcb7cd",
      "metadata": {
        "id": "0c55a0be-08ea-45cc-91d8-5e2d85dcb7cd",
        "outputId": "7f0bbe03-d052-424c-e6fd-e6d01f86560c"
      },
      "outputs": [
        {
          "name": "stdout",
          "output_type": "stream",
          "text": [
            "Requirement already satisfied: nltk in /Library/Frameworks/Python.framework/Versions/3.12/lib/python3.12/site-packages (3.9.1)\n",
            "Requirement already satisfied: click in /Library/Frameworks/Python.framework/Versions/3.12/lib/python3.12/site-packages (from nltk) (8.1.7)\n",
            "Requirement already satisfied: joblib in /Library/Frameworks/Python.framework/Versions/3.12/lib/python3.12/site-packages (from nltk) (1.3.2)\n",
            "Requirement already satisfied: regex>=2021.8.3 in /Library/Frameworks/Python.framework/Versions/3.12/lib/python3.12/site-packages (from nltk) (2024.5.15)\n",
            "Requirement already satisfied: tqdm in /Library/Frameworks/Python.framework/Versions/3.12/lib/python3.12/site-packages (from nltk) (4.66.4)\n",
            "\n",
            "\u001b[1m[\u001b[0m\u001b[34;49mnotice\u001b[0m\u001b[1;39;49m]\u001b[0m\u001b[39;49m A new release of pip is available: \u001b[0m\u001b[31;49m24.1.2\u001b[0m\u001b[39;49m -> \u001b[0m\u001b[32;49m24.3.1\u001b[0m\n",
            "\u001b[1m[\u001b[0m\u001b[34;49mnotice\u001b[0m\u001b[1;39;49m]\u001b[0m\u001b[39;49m To update, run: \u001b[0m\u001b[32;49mpip install --upgrade pip\u001b[0m\n",
            "Note: you may need to restart the kernel to use updated packages.\n"
          ]
        }
      ],
      "source": [
        "pip install nltk"
      ]
    },
    {
      "cell_type": "code",
      "execution_count": null,
      "id": "db9ae60d-d0b3-4710-b7f3-39ad0157a474",
      "metadata": {
        "id": "db9ae60d-d0b3-4710-b7f3-39ad0157a474",
        "outputId": "31b85936-973c-4449-a6fa-1aba90e6f156"
      },
      "outputs": [
        {
          "name": "stderr",
          "output_type": "stream",
          "text": [
            "/var/folders/dm/n6mxv2gx5k16st989zj1sk5m0000gn/T/ipykernel_62698/1118921107.py:2: DeprecationWarning: \n",
            "Pyarrow will become a required dependency of pandas in the next major release of pandas (pandas 3.0),\n",
            "(to allow more performant data types, such as the Arrow string type, and better interoperability with other libraries)\n",
            "but was not found to be installed on your system.\n",
            "If this would cause problems for you,\n",
            "please provide us feedback at https://github.com/pandas-dev/pandas/issues/54466\n",
            "        \n",
            "  import pandas as pd  # For handling data in DataFrame format\n",
            "[nltk_data] Downloading package stopwords to\n",
            "[nltk_data]     /Users/sudharshant/nltk_data...\n",
            "[nltk_data]   Package stopwords is already up-to-date!\n",
            "[nltk_data] Downloading package wordnet to\n",
            "[nltk_data]     /Users/sudharshant/nltk_data...\n",
            "[nltk_data]   Package wordnet is already up-to-date!\n"
          ]
        },
        {
          "data": {
            "text/plain": [
              "True"
            ]
          },
          "execution_count": 2,
          "metadata": {},
          "output_type": "execute_result"
        }
      ],
      "source": [
        "# Import necessary libraries\n",
        "import pandas as pd  # For handling data in DataFrame format\n",
        "\n",
        "#Natural language processing libraries\n",
        "import nltk  # For natural language processing tasks(i.e A library for working with human language data)\n",
        "from nltk.corpus import stopwords  # To access stopwords for text preprocessing\n",
        "from nltk.stem import WordNetLemmatizer # To reduce words to their base or root form\n",
        "\n",
        "# Download the list of stopwords from NLTK\n",
        "nltk.download('stopwords') # Download stopwords data\n",
        "nltk.download('wordnet')"
      ]
    },
    {
      "cell_type": "code",
      "execution_count": null,
      "id": "586147d0-2f00-412b-9f7e-7f06dfe6c0f2",
      "metadata": {
        "id": "586147d0-2f00-412b-9f7e-7f06dfe6c0f2",
        "outputId": "d9be4525-c4ba-40ec-bf4a-dca0c9d574cc"
      },
      "outputs": [
        {
          "data": {
            "text/html": [
              "<div>\n",
              "<style scoped>\n",
              "    .dataframe tbody tr th:only-of-type {\n",
              "        vertical-align: middle;\n",
              "    }\n",
              "\n",
              "    .dataframe tbody tr th {\n",
              "        vertical-align: top;\n",
              "    }\n",
              "\n",
              "    .dataframe thead th {\n",
              "        text-align: right;\n",
              "    }\n",
              "</style>\n",
              "<table border=\"1\" class=\"dataframe\">\n",
              "  <thead>\n",
              "    <tr style=\"text-align: right;\">\n",
              "      <th></th>\n",
              "      <th>text</th>\n",
              "      <th>target</th>\n",
              "    </tr>\n",
              "  </thead>\n",
              "  <tbody>\n",
              "    <tr>\n",
              "      <th>0</th>\n",
              "      <td>Our Deeds are the Reason of this #earthquake M...</td>\n",
              "      <td>1</td>\n",
              "    </tr>\n",
              "    <tr>\n",
              "      <th>1</th>\n",
              "      <td>Forest fire near La Ronge Sask. Canada</td>\n",
              "      <td>1</td>\n",
              "    </tr>\n",
              "    <tr>\n",
              "      <th>2</th>\n",
              "      <td>All residents asked to 'shelter in place' are ...</td>\n",
              "      <td>1</td>\n",
              "    </tr>\n",
              "    <tr>\n",
              "      <th>3</th>\n",
              "      <td>13,000 people receive #wildfires evacuation or...</td>\n",
              "      <td>1</td>\n",
              "    </tr>\n",
              "    <tr>\n",
              "      <th>4</th>\n",
              "      <td>Just got sent this photo from Ruby #Alaska as ...</td>\n",
              "      <td>1</td>\n",
              "    </tr>\n",
              "  </tbody>\n",
              "</table>\n",
              "</div>"
            ],
            "text/plain": [
              "                                                text  target\n",
              "0  Our Deeds are the Reason of this #earthquake M...       1\n",
              "1             Forest fire near La Ronge Sask. Canada       1\n",
              "2  All residents asked to 'shelter in place' are ...       1\n",
              "3  13,000 people receive #wildfires evacuation or...       1\n",
              "4  Just got sent this photo from Ruby #Alaska as ...       1"
            ]
          },
          "execution_count": 3,
          "metadata": {},
          "output_type": "execute_result"
        }
      ],
      "source": [
        "# Load datasets\n",
        "train_data = pd.read_csv('train.csv')  # Read the CSV file into a DataFrame\n",
        "train_data = train_data[['text', 'target']] #select column\n",
        "\n",
        "test_data = pd.read_csv('test.csv')\n",
        "# View the first 4 rows of the dataset to understand its structure\n",
        "train_data.head()"
      ]
    },
    {
      "cell_type": "code",
      "execution_count": null,
      "id": "56445169-2c96-40c6-b6a4-f8cdb0eba9aa",
      "metadata": {
        "id": "56445169-2c96-40c6-b6a4-f8cdb0eba9aa",
        "outputId": "2cc0e279-d030-4304-93d5-becf8c0ccec8"
      },
      "outputs": [
        {
          "name": "stdout",
          "output_type": "stream",
          "text": [
            "<class 'pandas.core.frame.DataFrame'>\n",
            "RangeIndex: 7613 entries, 0 to 7612\n",
            "Data columns (total 2 columns):\n",
            " #   Column  Non-Null Count  Dtype \n",
            "---  ------  --------------  ----- \n",
            " 0   text    7613 non-null   object\n",
            " 1   target  7613 non-null   int64 \n",
            "dtypes: int64(1), object(1)\n",
            "memory usage: 119.1+ KB\n"
          ]
        }
      ],
      "source": [
        "train_data.info()"
      ]
    },
    {
      "cell_type": "code",
      "execution_count": null,
      "id": "da00a6c8-fa41-47b8-a5eb-bbd6ddef6910",
      "metadata": {
        "id": "da00a6c8-fa41-47b8-a5eb-bbd6ddef6910",
        "outputId": "cf37b029-709c-4351-c558-9af072a6cf6b"
      },
      "outputs": [
        {
          "data": {
            "text/plain": [
              "text      0\n",
              "target    0\n",
              "dtype: int64"
            ]
          },
          "execution_count": 5,
          "metadata": {},
          "output_type": "execute_result"
        }
      ],
      "source": [
        "train_data.isnull().sum()"
      ]
    },
    {
      "cell_type": "code",
      "execution_count": null,
      "id": "991c5681-ae74-4aa1-abab-1ab0c4a91497",
      "metadata": {
        "id": "991c5681-ae74-4aa1-abab-1ab0c4a91497",
        "outputId": "071beb00-aaa7-47ee-88f6-46b807e7664b"
      },
      "outputs": [
        {
          "data": {
            "text/plain": [
              "92"
            ]
          },
          "execution_count": 6,
          "metadata": {},
          "output_type": "execute_result"
        }
      ],
      "source": [
        "train_data.duplicated().sum()"
      ]
    },
    {
      "cell_type": "code",
      "execution_count": null,
      "id": "61eaf82a-7f68-4865-94c9-70ed6e00f969",
      "metadata": {
        "id": "61eaf82a-7f68-4865-94c9-70ed6e00f969"
      },
      "outputs": [],
      "source": [
        "train_data.drop_duplicates(keep='first', inplace=True)"
      ]
    },
    {
      "cell_type": "code",
      "execution_count": null,
      "id": "9e783dc0-24ba-4417-bc0c-01857a2264cf",
      "metadata": {
        "id": "9e783dc0-24ba-4417-bc0c-01857a2264cf",
        "outputId": "19c28885-66b0-48b5-bc87-c255552e5c08"
      },
      "outputs": [
        {
          "data": {
            "text/plain": [
              "0"
            ]
          },
          "execution_count": 8,
          "metadata": {},
          "output_type": "execute_result"
        }
      ],
      "source": [
        "train_data.duplicated().sum()"
      ]
    },
    {
      "cell_type": "code",
      "execution_count": null,
      "id": "e7b4cf3f-69e8-4dd5-b24e-09e523409a58",
      "metadata": {
        "id": "e7b4cf3f-69e8-4dd5-b24e-09e523409a58",
        "outputId": "b29b9911-ab44-4cc6-e3b9-e89ed60c0715"
      },
      "outputs": [
        {
          "data": {
            "text/plain": [
              "(7521, 2)"
            ]
          },
          "execution_count": 9,
          "metadata": {},
          "output_type": "execute_result"
        }
      ],
      "source": [
        "train_data.shape"
      ]
    },
    {
      "cell_type": "code",
      "execution_count": null,
      "id": "9a49e9cc-c694-4937-8ac1-75d01987ad89",
      "metadata": {
        "id": "9a49e9cc-c694-4937-8ac1-75d01987ad89",
        "outputId": "13a6098a-f217-40b7-9ca3-1176513b57c1"
      },
      "outputs": [
        {
          "data": {
            "text/html": [
              "<div>\n",
              "<style scoped>\n",
              "    .dataframe tbody tr th:only-of-type {\n",
              "        vertical-align: middle;\n",
              "    }\n",
              "\n",
              "    .dataframe tbody tr th {\n",
              "        vertical-align: top;\n",
              "    }\n",
              "\n",
              "    .dataframe thead th {\n",
              "        text-align: right;\n",
              "    }\n",
              "</style>\n",
              "<table border=\"1\" class=\"dataframe\">\n",
              "  <thead>\n",
              "    <tr style=\"text-align: right;\">\n",
              "      <th></th>\n",
              "      <th>target</th>\n",
              "    </tr>\n",
              "  </thead>\n",
              "  <tbody>\n",
              "    <tr>\n",
              "      <th>count</th>\n",
              "      <td>7521.000000</td>\n",
              "    </tr>\n",
              "    <tr>\n",
              "      <th>mean</th>\n",
              "      <td>0.426273</td>\n",
              "    </tr>\n",
              "    <tr>\n",
              "      <th>std</th>\n",
              "      <td>0.494567</td>\n",
              "    </tr>\n",
              "    <tr>\n",
              "      <th>min</th>\n",
              "      <td>0.000000</td>\n",
              "    </tr>\n",
              "    <tr>\n",
              "      <th>25%</th>\n",
              "      <td>0.000000</td>\n",
              "    </tr>\n",
              "    <tr>\n",
              "      <th>50%</th>\n",
              "      <td>0.000000</td>\n",
              "    </tr>\n",
              "    <tr>\n",
              "      <th>75%</th>\n",
              "      <td>1.000000</td>\n",
              "    </tr>\n",
              "    <tr>\n",
              "      <th>max</th>\n",
              "      <td>1.000000</td>\n",
              "    </tr>\n",
              "  </tbody>\n",
              "</table>\n",
              "</div>"
            ],
            "text/plain": [
              "            target\n",
              "count  7521.000000\n",
              "mean      0.426273\n",
              "std       0.494567\n",
              "min       0.000000\n",
              "25%       0.000000\n",
              "50%       0.000000\n",
              "75%       1.000000\n",
              "max       1.000000"
            ]
          },
          "execution_count": 10,
          "metadata": {},
          "output_type": "execute_result"
        }
      ],
      "source": [
        "train_data.describe()"
      ]
    },
    {
      "cell_type": "code",
      "execution_count": null,
      "id": "7a080917-ec7c-4c59-9bc4-41a70a9e386e",
      "metadata": {
        "id": "7a080917-ec7c-4c59-9bc4-41a70a9e386e",
        "outputId": "f8ae7306-6ce3-4f1e-85df-0967c9eee0bf"
      },
      "outputs": [
        {
          "name": "stdout",
          "output_type": "stream",
          "text": [
            "[1 0]\n"
          ]
        }
      ],
      "source": [
        "print(train_data['target'].unique())"
      ]
    },
    {
      "cell_type": "code",
      "execution_count": null,
      "id": "6f9ce080-b310-4210-8726-bc55fe5b173e",
      "metadata": {
        "id": "6f9ce080-b310-4210-8726-bc55fe5b173e"
      },
      "outputs": [],
      "source": [
        "from sklearn.model_selection import train_test_split  # To split data into training and testing sets\n",
        "#Train-test split\n",
        "X = train_data['text']\n",
        "y = train_data['target']\n",
        "X_train, X_val, y_train, y_val = train_test_split(X, y, test_size=0.2)"
      ]
    },
    {
      "cell_type": "code",
      "execution_count": null,
      "id": "944a4b49-0dac-4574-9335-472ba859351f",
      "metadata": {
        "id": "944a4b49-0dac-4574-9335-472ba859351f"
      },
      "outputs": [],
      "source": [
        "import torch\n",
        "from transformers import BertTokenizer, BertModel\n",
        "from torch.utils.data import DataLoader, Dataset"
      ]
    },
    {
      "cell_type": "code",
      "execution_count": null,
      "id": "3f0bbde5-e2eb-4c2d-b55f-6ab828c03a17",
      "metadata": {
        "id": "3f0bbde5-e2eb-4c2d-b55f-6ab828c03a17"
      },
      "outputs": [],
      "source": [
        "tokenizer = BertTokenizer.from_pretrained('bert-base-uncased')"
      ]
    },
    {
      "cell_type": "code",
      "execution_count": null,
      "id": "d4d68bde-7d79-4b1b-90a2-7e063e061448",
      "metadata": {
        "id": "d4d68bde-7d79-4b1b-90a2-7e063e061448"
      },
      "outputs": [],
      "source": [
        "from sklearn.feature_extraction.text import TfidfVectorizer\n",
        "# Initialize TF-IDF Vectorizer\n",
        "tfidf = TfidfVectorizer(max_features=3000)\n",
        "\n",
        "# Transform the training and testing data\n",
        "X_train_tfidf = tfidf.fit_transform(X_train)\n",
        "X_val_tfidf = tfidf.transform(X_val)"
      ]
    },
    {
      "cell_type": "code",
      "execution_count": null,
      "id": "a321ea7e-8395-448a-8584-6c320897e213",
      "metadata": {
        "id": "a321ea7e-8395-448a-8584-6c320897e213",
        "outputId": "c4ac009e-9b4a-4ba1-a7ae-0fffd1e03776"
      },
      "outputs": [
        {
          "data": {
            "text/plain": [
              "<sklearn.metrics._plot.confusion_matrix.ConfusionMatrixDisplay at 0x360fe5070>"
            ]
          },
          "execution_count": 21,
          "metadata": {},
          "output_type": "execute_result"
        },
        {
          "data": {
            "image/png": "[encoded data removed]",
            "text/plain": [
              "<Figure size 640x480 with 2 Axes>"
            ]
          },
          "metadata": {},
          "output_type": "display_data"
        }
      ],
      "source": [
        "# Tokenization and embedding extraction using BERT\n",
        "import torch\n",
        "from transformers import BertTokenizer, BertModel\n",
        "from torch.utils.data import DataLoader, Dataset\n",
        "\n",
        "# Load pre-trained BERT model and tokenizer\n",
        "tokenizer = BertTokenizer.from_pretrained('bert-base-uncased')\n",
        "bert_model = BertModel.from_pretrained('bert-base-uncased')\n",
        "bert_model.eval()  # Set to evaluation mode\n",
        "\n",
        "# Dataset class to handle text data for BERT\n",
        "class TextDataset(Dataset):\n",
        "    def __init__(self, texts, targets=None, tokenizer=None, max_length=128):\n",
        "        self.texts = texts\n",
        "        self.targets = targets\n",
        "        self.tokenizer = tokenizer\n",
        "        self.max_length = max_length\n",
        "\n",
        "    def __len__(self):\n",
        "        return len(self.texts)\n",
        "\n",
        "    def __getitem__(self, idx):\n",
        "        text = self.texts.iloc[idx]\n",
        "        inputs = self.tokenizer(\n",
        "            text,\n",
        "            max_length=self.max_length,\n",
        "            truncation=True,\n",
        "            padding=\"max_length\",\n",
        "            return_tensors=\"pt\"\n",
        "        )\n",
        "        input_ids = inputs['input_ids'].squeeze(0)\n",
        "        attention_mask = inputs['attention_mask'].squeeze(0)\n",
        "\n",
        "        if self.targets is not None:\n",
        "            target = self.targets.iloc[idx]\n",
        "            return input_ids, attention_mask, target\n",
        "        return input_ids, attention_mask\n",
        "\n",
        "# Prepare datasets\n",
        "train_dataset = TextDataset(X_train, y_train, tokenizer)\n",
        "val_dataset = TextDataset(X_val, y_val, tokenizer)\n",
        "\n",
        "# Function to extract embeddings\n",
        "def extract_embeddings(dataset):\n",
        "    dataloader = DataLoader(dataset, batch_size=16, shuffle=False)\n",
        "    embeddings = []\n",
        "    labels = []\n",
        "\n",
        "    with torch.no_grad():\n",
        "        for batch in dataloader:\n",
        "            input_ids, attention_mask, targets = batch\n",
        "            outputs = bert_model(input_ids=input_ids, attention_mask=attention_mask)\n",
        "            # Extract [CLS] token embeddings\n",
        "            cls_embeddings = outputs.last_hidden_state[:, 0, :].numpy()\n",
        "            embeddings.extend(cls_embeddings)\n",
        "            if targets is not None:\n",
        "                labels.extend(targets.numpy())\n",
        "\n",
        "    return pd.DataFrame(embeddings), labels\n",
        "\n",
        "# Extract BERT embeddings for training and validation data\n",
        "X_train_bert, y_train_bert = extract_embeddings(train_dataset)\n",
        "X_val_bert, y_val_bert = extract_embeddings(val_dataset)\n",
        "\n",
        "# Train the SVM model\n",
        "svm_model = SVC()\n",
        "svm_model.fit(X_train_bert, y_train_bert)\n",
        "\n",
        "# Predict on validation data\n",
        "y_pred = svm_model.predict(X_val_bert)\n",
        "\n",
        "# Generate and display the confusion matrix\n",
        "from sklearn.metrics import confusion_matrix, ConfusionMatrixDisplay\n",
        "\n",
        "# Create confusion matrix\n",
        "conf_matrix = confusion_matrix(y_val_bert, y_pred)\n",
        "\n",
        "# Visualize the confusion matrix\n",
        "disp = ConfusionMatrixDisplay(confusion_matrix=conf_matrix, display_labels=[0, 1])\n",
        "disp.plot(cmap='Blues')\n"
      ]
    },
    {
      "cell_type": "code",
      "execution_count": null,
      "id": "06dcfe0e-1049-400c-a8ce-96e51f6cfd24",
      "metadata": {
        "id": "06dcfe0e-1049-400c-a8ce-96e51f6cfd24",
        "outputId": "f3c1d797-72f9-4ebc-8d19-532862667df4"
      },
      "outputs": [
        {
          "name": "stdout",
          "output_type": "stream",
          "text": [
            "Training Logistic Regression...\n",
            "Training Random Forest...\n",
            "Training Support Vector Machine...\n",
            "Training Gradient Boosting...\n",
            "Training K-Nearest Neighbors...\n",
            "Training Decision Tree...\n",
            "Training Neural Network...\n",
            "Training Extra Trees Classifier...\n",
            "Training Passive Aggressive Classifier...\n",
            "\n",
            "Comparative Analysis with BERT Embeddings:\n",
            "Model: Logistic Regression\n",
            "  F1-Score: 0.8008\n",
            "  Accuracy: 0.8013\n",
            " \n",
            "Model: Random Forest\n",
            "  F1-Score: 0.7663\n",
            "  Accuracy: 0.7708\n",
            " \n",
            "Model: Support Vector Machine\n",
            "  F1-Score: 0.8152\n",
            "  Accuracy: 0.8173\n",
            " \n",
            "Model: Gradient Boosting\n",
            "  F1-Score: 0.7903\n",
            "  Accuracy: 0.7920\n",
            " \n",
            "Model: K-Nearest Neighbors\n",
            "  F1-Score: 0.7555\n",
            "  Accuracy: 0.7575\n",
            " \n",
            "Model: Decision Tree\n",
            "  F1-Score: 0.6736\n",
            "  Accuracy: 0.6731\n",
            " \n",
            "Model: Neural Network\n",
            "  F1-Score: 0.7961\n",
            "  Accuracy: 0.7973\n",
            " \n",
            "Model: Extra Trees Classifier\n",
            "  F1-Score: 0.7668\n",
            "  Accuracy: 0.7714\n",
            " \n",
            "Model: Passive Aggressive Classifier\n",
            "  F1-Score: 0.7969\n",
            "  Accuracy: 0.7960\n",
            " \n"
          ]
        }
      ],
      "source": [
        "# Step 1: Extract BERT embeddings for train and validation data (reuse previous logic)\n",
        "X_train_bert, y_train_bert = extract_embeddings(train_dataset)  # Training embeddings\n",
        "X_val_bert, y_val_bert = extract_embeddings(val_dataset)        # Validation embeddings\n",
        "\n",
        "# Step 2: Initialize models as before\n",
        "from sklearn.linear_model import LogisticRegression\n",
        "from sklearn.naive_bayes import MultinomialNB\n",
        "from sklearn.ensemble import RandomForestClassifier\n",
        "from sklearn.svm import SVC\n",
        "from sklearn.ensemble import GradientBoostingClassifier\n",
        "from sklearn.neighbors import KNeighborsClassifier\n",
        "from sklearn.tree import DecisionTreeClassifier\n",
        "from sklearn.neural_network import MLPClassifier\n",
        "from sklearn.ensemble import ExtraTreesClassifier\n",
        "from sklearn.linear_model import PassiveAggressiveClassifier\n",
        "\n",
        "models = {\n",
        "    'Logistic Regression': LogisticRegression(max_iter=1000),\n",
        "    'Random Forest': RandomForestClassifier(),\n",
        "    'Support Vector Machine': SVC(),\n",
        "    'Gradient Boosting': GradientBoostingClassifier(),\n",
        "    'K-Nearest Neighbors': KNeighborsClassifier(),\n",
        "    'Decision Tree': DecisionTreeClassifier(),\n",
        "    'Neural Network': MLPClassifier(),\n",
        "    'Extra Trees Classifier': ExtraTreesClassifier(),\n",
        "    'Passive Aggressive Classifier': PassiveAggressiveClassifier()\n",
        "}\n",
        "\n",
        "# Step 3: Train each model and collect metrics\n",
        "from sklearn.metrics import f1_score, accuracy_score, classification_report\n",
        "\n",
        "# Dictionary to store results\n",
        "bert_results = {}\n",
        "\n",
        "for name, model in models.items():\n",
        "    print(f\"Training {name}...\")\n",
        "    model.fit(X_train_bert, y_train_bert)  # Train the model\n",
        "    y_pred = model.predict(X_val_bert)    # Predict on validation data\n",
        "\n",
        "    # Evaluate metrics\n",
        "    f1 = f1_score(y_val_bert, y_pred, average='weighted')  # F1-score\n",
        "    accuracy = accuracy_score(y_val_bert, y_pred)          # Accuracy\n",
        "\n",
        "    # Store results\n",
        "    bert_results[name] = {\n",
        "        'f1_score': f1,\n",
        "        'accuracy': accuracy\n",
        "    }\n",
        "\n",
        "# Step 4: Display results for BERT-based embeddings\n",
        "print(\"\\nComparative Analysis with BERT Embeddings:\")\n",
        "for name, metrics in bert_results.items():\n",
        "    print(f\"Model: {name}\")\n",
        "    print(f\"  F1-Score: {metrics['f1_score']:.4f}\")\n",
        "    print(f\"  Accuracy: {metrics['accuracy']:.4f}\")\n",
        "    print(\" \")\n"
      ]
    },
    {
      "cell_type": "code",
      "execution_count": null,
      "id": "78ba00d3-77d5-4b1c-b244-e46f3b8fd05f",
      "metadata": {
        "id": "78ba00d3-77d5-4b1c-b244-e46f3b8fd05f",
        "outputId": "033f6723-c1dd-4eae-bd2f-a452c8d6b0c8"
      },
      "outputs": [
        {
          "data": {
            "text/plain": [
              "<sklearn.metrics._plot.confusion_matrix.ConfusionMatrixDisplay at 0x31ebfb800>"
            ]
          },
          "execution_count": 23,
          "metadata": {},
          "output_type": "execute_result"
        },
        {
          "data": {
            "image/png": "[encoded data removed]",
            "text/plain": [
              "<Figure size 640x480 with 2 Axes>"
            ]
          },
          "metadata": {},
          "output_type": "display_data"
        }
      ],
      "source": [
        "# Step 1: Use the trained SVM model\n",
        "svm_model = models['Support Vector Machine']  # Retrieve the SVM model\n",
        "\n",
        "# Step 2: Predict on the validation set\n",
        "y_pred_svm = svm_model.predict(X_val_bert)\n",
        "\n",
        "# Step 3: Generate the confusion matrix\n",
        "from sklearn.metrics import confusion_matrix, ConfusionMatrixDisplay\n",
        "\n",
        "# Create confusion matrix\n",
        "conf_matrix_svm = confusion_matrix(y_val_bert, y_pred_svm)\n",
        "\n",
        "# Step 4: Visualize the confusion matrix\n",
        "disp_svm = ConfusionMatrixDisplay(confusion_matrix=conf_matrix_svm, display_labels=[0, 1])\n",
        "disp_svm.plot(cmap='Blues')\n"
      ]
    },
    {
      "cell_type": "code",
      "execution_count": null,
      "id": "b84b895f-08ce-41b0-af34-49e891577bd1",
      "metadata": {
        "id": "b84b895f-08ce-41b0-af34-49e891577bd1"
      },
      "outputs": [],
      "source": []
    }
  ],
  "metadata": {
    "kernelspec": {
      "display_name": "Python 3 (ipykernel)",
      "language": "python",
      "name": "python3"
    },
    "language_info": {
      "codemirror_mode": {
        "name": "ipython",
        "version": 3
      },
      "file_extension": ".py",
      "mimetype": "text/x-python",
      "name": "python",
      "nbconvert_exporter": "python",
      "pygments_lexer": "ipython3",
      "version": "3.12.0"
    },
    "colab": {
      "provenance": []
    }
  },
  "nbformat": 4,
  "nbformat_minor": 5
}